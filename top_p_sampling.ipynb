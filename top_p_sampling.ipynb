{
 "cells": [
  {
   "cell_type": "code",
   "execution_count": null,
   "metadata": {},
   "outputs": [],
   "source": [
    "import torch\n",
    "import numpy as np\n",
    "\n",
    "def top_p_sampling(probabilities, top_p=0.90):\n",
    "    # step 1\n",
    "    sorted_probs, sorted_indices = torch.sort(probabilities, descending=True)\n",
    "\n",
    "    # step 2\n",
    "    cummulative_probs = torch.cumsum(sorted_probs, dim=-1)\n",
    "\n",
    "    # step 3\n",
    "    sort_mask = cummulative_probs <= top_p\n",
    "    sort_mask[..., 0] = True\n",
    "\n",
    "    allowed_probs = sorted_probs[sort_mask]\n",
    "    allowed_indices = sorted_indices[sort_mask]\n",
    "\n",
    "    # step 4\n",
    "    allowed_probs = allowed_probs / allowed_probs.sum()\n",
    "    \n",
    "    # sampling a token from the allowed_prob tokens\n",
    "    sample_idx = torch.multinomial(allowed_probs, num_samples=1)\n",
    "    sample_idx = allowed_indices[sample_idx].item()\n",
    "\n",
    "    return sample_idx, np.round(probabilities[sample_idx].item(), decimals=2).item()\n",
    "\n",
    "\n",
    "prob = torch.tensor([0.15, 0.10, 0.40, 0.25, 0.06, 0.04])\n",
    "idx, token = top_p_sampling(prob)\n",
    "print(f'Token index: {idx}, Token: {token}')"
   ]
  },
  {
   "cell_type": "code",
   "execution_count": null,
   "metadata": {},
   "outputs": [],
   "source": []
  }
 ],
 "metadata": {
  "kernelspec": {
   "display_name": ".venv",
   "language": "python",
   "name": "python3"
  },
  "language_info": {
   "name": "python",
   "version": "3.11.0"
  }
 },
 "nbformat": 4,
 "nbformat_minor": 2
}
