{
 "cells": [
  {
   "cell_type": "code",
   "execution_count": 1,
   "metadata": {},
   "outputs": [],
   "source": [
    "import unidecode\n",
    "import string \n",
    "import random \n",
    "import re \n",
    "\n",
    "import torch\n",
    "import torch.nn as nn\n",
    "import torch.nn.functional as F\n",
    "from torch.utils.data import Dataset, DataLoader\n",
    "from torch.autograd import Variable\n",
    "\n",
    "import time, math\n",
    "\n",
    "import matplotlib.pyplot as plt "
   ]
  },
  {
   "cell_type": "markdown",
   "metadata": {},
   "source": [
    "## load & prepare data"
   ]
  },
  {
   "cell_type": "code",
   "execution_count": 2,
   "metadata": {},
   "outputs": [],
   "source": [
    "all_characters = string.printable\n",
    "n_characters = len(all_characters)\n",
    "\n",
    "data_path = \"C:/Users/HomePC/Desktop/papers_implementation/Generating Sequences With Recurrent Neural Networks/data/william_shakepares.txt\"\n",
    "text = unidecode.unidecode(open(data_path).read())\n",
    "text = text.lower()\n",
    "text = text.replace('\\n', ' ')\n",
    "text = text[:100_000] # no gpu .... (sad face)"
   ]
  },
  {
   "cell_type": "code",
   "execution_count": 3,
   "metadata": {},
   "outputs": [],
   "source": [
    "chars = sorted(list(set(text)))\n",
    "vocab_size = len(chars)\n",
    "\n",
    "char2idx = {ch: i for i, ch in enumerate(chars)}\n",
    "idx2char = {i: ch for i, ch in enumerate(chars)}\n",
    "\n",
    "encoded_text = [char2idx[ch] for ch in text]"
   ]
  },
  {
   "cell_type": "code",
   "execution_count": 4,
   "metadata": {},
   "outputs": [],
   "source": [
    "class CharDataset(Dataset):\n",
    "    def __init__(self, encoded_text, seq_length):\n",
    "        self.seq_length = seq_length\n",
    "        self.encoded_text = encoded_text\n",
    "\n",
    "    def __len__(self):\n",
    "        return len(self.encoded_text) - self.seq_length\n",
    "    \n",
    "    def __getitem__(self, idx):\n",
    "        x = self.encoded_text[idx : idx + self.seq_length]\n",
    "        y = self.encoded_text[idx+1 : idx + self.seq_length + 1]\n",
    "        return torch.tensor(x, dtype=torch.long), torch.tensor(y, dtype=torch.long)\n",
    "\n",
    "    \n",
    "seq_length = 100\n",
    "dataset = CharDataset(encoded_text, seq_length)\n",
    "dataloader = DataLoader(dataset, batch_size=128, shuffle=True, drop_last=True)"
   ]
  },
  {
   "cell_type": "code",
   "execution_count": 5,
   "metadata": {},
   "outputs": [],
   "source": [
    "class CharRNN(nn.Module):\n",
    "    def __init__(self, vocab_size, embedding_dim, hidden_dim, num_layers=1):\n",
    "        super(CharRNN, self).__init__()\n",
    "        self.hidden_dim = hidden_dim\n",
    "        self.num_layers = num_layers\n",
    "        self.vocab_size = vocab_size\n",
    "    \n",
    "        self.embed = nn.Embedding(vocab_size, embedding_dim)\n",
    "        self.lstm = nn.LSTM(embedding_dim, hidden_dim, num_layers=num_layers, batch_first=True)\n",
    "        self.fc = nn.Linear(hidden_dim, vocab_size)\n",
    "    \n",
    "    def forward(self, x, hidden):\n",
    "        embedded = self.embed(x)\n",
    "        out, hidden = self.lstm(embedded, hidden)\n",
    "\n",
    "        out = out.contiguous().view(-1, self.hidden_dim)\n",
    "        out = self.fc(out)\n",
    "\n",
    "        return out, hidden\n",
    "\n",
    "    def init_hidden(self, batch_size):\n",
    "        weight = next(self.parameters()).data\n",
    "        h = weight.new(self.num_layers, batch_size, self.hidden_dim).zero_()\n",
    "        c = weight.new(self.num_layers, batch_size, self.hidden_dim).zero_()\n",
    "        return (h, c)"
   ]
  },
  {
   "cell_type": "code",
   "execution_count": 6,
   "metadata": {},
   "outputs": [],
   "source": [
    "def train(model, dataloader, batch_size, optimizer, criterion):\n",
    "    model.train()\n",
    "    hidden = model.init_hidden(batch_size=batch_size)\n",
    "\n",
    "    for x, y in dataloader:\n",
    "        x, y = x.to(device), y.to(device)\n",
    "\n",
    "        hidden = tuple([h.detach() for h in hidden])\n",
    "        logits, hidden = model(x, hidden)\n",
    "        loss = criterion(logits, y.view(-1))\n",
    "\n",
    "        optimizer.zero_grad()\n",
    "        loss.backward()\n",
    "\n",
    "        nn.utils.clip_grad_norm_(model.parameters(), max_norm=1)\n",
    "        optimizer.step()\n",
    "        loss.item()\n",
    "\n",
    "    return loss"
   ]
  },
  {
   "cell_type": "code",
   "execution_count": 7,
   "metadata": {},
   "outputs": [],
   "source": [
    "def generate_text(model, start_str, char2idx, idx2char, hidden_dim, num_chars=200, temperature=1.0, device='cpu'):\n",
    "    model.eval()\n",
    "\n",
    "    input_idxs = [char2idx[ch] for ch in start_str]\n",
    "    input_tensor = torch.tensor([input_idxs], dtype=torch.long).to(device)\n",
    "\n",
    "    hidden = model.init_hidden(batch_size=1)\n",
    "\n",
    "    for i in range(len(start_str) -1):\n",
    "        _, hidden = model(input_tensor[:, i:i+1], hidden)\n",
    "    \n",
    "    out_chars = [ch for ch in start_str]\n",
    "    current_input = input_tensor[:, -1].unsqueeze(1)\n",
    "\n",
    "    for i in range(num_chars):\n",
    "        logits, hidden = model(current_input, hidden)\n",
    "        logits = logits.squeeze(0)\n",
    "\n",
    "        probs = F.softmax(logits / temperature, dim=0).detach().cpu().numpy()\n",
    "\n",
    "        next_idx = torch.multinomial(torch.tensor(probs), 1).item()\n",
    "        out_chars.append(idx2char[next_idx])\n",
    "\n",
    "        current_inpt = torch.tensor([[next_idx]], dtype=torch.long).to(device)\n",
    "    \n",
    "    return \"\".join(out_chars)"
   ]
  },
  {
   "cell_type": "code",
   "execution_count": 10,
   "metadata": {},
   "outputs": [],
   "source": [
    "embedding_dim = 128\n",
    "hidden_dim = 256\n",
    "num_layers = 2\n",
    "lr = 0.001\n",
    "num_epochs = 2_000\n",
    "batch_size = 128\n",
    "plot_every = 10\n",
    "print_every = 100\n",
    "\n",
    "\n",
    "device = torch.device('cuda' if torch.cuda.is_available() else 'cpu')\n",
    "model = CharRNN(vocab_size, embedding_dim, hidden_dim, num_layers).to(device)\n",
    "optimizer = torch.optim.Adam(model.parameters(), lr=lr)\n",
    "criterion = nn.CrossEntropyLoss()"
   ]
  },
  {
   "cell_type": "code",
   "execution_count": null,
   "metadata": {},
   "outputs": [],
   "source": [
    "all_losses = []\n",
    "loss_avg = 0\n",
    "\n",
    "for epoch in range(1, num_epochs + 1):\n",
    "    loss = train(model=model, dataloader=dataloader, batch_size=batch_size, optimizer=optimizer, criterion=criterion)\n",
    "    loss_avg += loss\n",
    "\n",
    "    if epoch % plot_every == 0:\n",
    "        print(f'Epoch: {epoch} | Loss: {loss:.4f}')\n",
    "        start_string = 'to be'\n",
    "        print(generate_text(model, start_string, char2idx, idx2char, hidden_dim, num_chars=200, temperature=1.0, device=device))\n",
    "        \n",
    "    if epoch % plot_every == 0:\n",
    "        all_losses.append(loss_avg / plot_every)\n",
    "        loss_avg = 0"
   ]
  },
  {
   "cell_type": "code",
   "execution_count": 28,
   "metadata": {},
   "outputs": [],
   "source": []
  },
  {
   "cell_type": "code",
   "execution_count": null,
   "metadata": {},
   "outputs": [],
   "source": []
  },
  {
   "cell_type": "code",
   "execution_count": null,
   "metadata": {},
   "outputs": [],
   "source": []
  },
  {
   "cell_type": "code",
   "execution_count": null,
   "metadata": {},
   "outputs": [],
   "source": []
  }
 ],
 "metadata": {
  "kernelspec": {
   "display_name": ".venv",
   "language": "python",
   "name": "python3"
  },
  "language_info": {
   "codemirror_mode": {
    "name": "ipython",
    "version": 3
   },
   "file_extension": ".py",
   "mimetype": "text/x-python",
   "name": "python",
   "nbconvert_exporter": "python",
   "pygments_lexer": "ipython3",
   "version": "3.11.0"
  }
 },
 "nbformat": 4,
 "nbformat_minor": 2
}
