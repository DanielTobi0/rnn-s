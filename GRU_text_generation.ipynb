{
 "cells": [
  {
   "cell_type": "markdown",
   "metadata": {},
   "source": [
    "# Text generation with Gated Recurrent Unit.\n",
    "\n",
    "This notebook serves as a correction to this [notebook](https://github.com/spro/practical-pytorch/blob/master/char-rnn-generation/char-rnn-generation.ipynb)"
   ]
  },
  {
   "cell_type": "code",
   "execution_count": 5,
   "metadata": {},
   "outputs": [],
   "source": [
    "import unidecode\n",
    "import string \n",
    "import random \n",
    "import re \n",
    "\n",
    "import torch\n",
    "import torch.nn as nn\n",
    "from torch.autograd import Variable\n",
    "\n",
    "import time, math\n",
    "\n",
    "import matplotlib.pyplot as plt "
   ]
  },
  {
   "cell_type": "markdown",
   "metadata": {},
   "source": [
    "### Prepare data"
   ]
  },
  {
   "cell_type": "code",
   "execution_count": 6,
   "metadata": {},
   "outputs": [
    {
     "name": "stdout",
     "output_type": "stream",
     "text": [
      "file_len = 1115394\n"
     ]
    }
   ],
   "source": [
    "all_characters = string.printable\n",
    "n_characters = len(all_characters)\n",
    "\n",
    "data_path = \"C:/Users/HomePC/Desktop/papers_implementation/Generating Sequences With Recurrent Neural Networks/data/william_shakepares.txt\"\n",
    "file = unidecode.unidecode(open(data_path).read())\n",
    "file_len = len(file)\n",
    "print('file_len =', file_len)"
   ]
  },
  {
   "cell_type": "code",
   "execution_count": 7,
   "metadata": {},
   "outputs": [
    {
     "name": "stdout",
     "output_type": "stream",
     "text": [
      "and nothing else: so lords\n",
      "call ladies.\n",
      "\n",
      "SLY:\n",
      "Madam wife, they say that I have dream'd\n",
      "And slept above some fifteen year or more.\n",
      "\n",
      "Page:\n",
      "Ay, and the time seems thirty unto me,\n",
      "Being all this time aband\n"
     ]
    }
   ],
   "source": [
    "chunk_len = 200\n",
    "\n",
    "def random_chunk():\n",
    "    start_index = random.randint(0, file_len - chunk_len)\n",
    "    end_index = start_index + chunk_len + 1\n",
    "    return file[start_index:end_index]\n",
    "\n",
    "print(random_chunk())"
   ]
  },
  {
   "cell_type": "markdown",
   "metadata": {},
   "source": [
    "## Build the Model"
   ]
  },
  {
   "cell_type": "code",
   "execution_count": 8,
   "metadata": {},
   "outputs": [],
   "source": [
    "class RNN(nn.Module):\n",
    "    def __init__(self, input_size, hidden_size, output_size, n_layers=1):\n",
    "        super(RNN, self).__init__()\n",
    "        self.input_size = input_size\n",
    "        self.hidden_size = hidden_size\n",
    "        self.output_size = output_size\n",
    "        self.n_layers = n_layers\n",
    "\n",
    "        self.encoder = nn.Embedding(input_size, hidden_size)\n",
    "        self.gru = nn.GRU(hidden_size, hidden_size, n_layers)\n",
    "        self.decoder = nn.Linear(hidden_size, output_size)\n",
    "    \n",
    "    def forward(self, inputs, hidden):\n",
    "        inputs = self.encoder(inputs.view(1, -1))\n",
    "        output, hidden = self.gru(inputs.view(1, 1, -1), hidden)\n",
    "        output = self.decoder(output.view(1, -1))\n",
    "        return output, hidden\n",
    "\n",
    "    def init_hidden(self):\n",
    "        return Variable(torch.zeros(self.n_layers, 1, self.hidden_size)) "
   ]
  },
  {
   "cell_type": "markdown",
   "metadata": {},
   "source": [
    "### Inputs and Targets"
   ]
  },
  {
   "cell_type": "code",
   "execution_count": 9,
   "metadata": {},
   "outputs": [
    {
     "name": "stdout",
     "output_type": "stream",
     "text": [
      "tensor([39, 10, 23, 18, 14, 21])\n"
     ]
    }
   ],
   "source": [
    "def char_tensor(string):\n",
    "    tensor = torch.zeros(len(string)).long()\n",
    "    for c in range(len(string)):\n",
    "        tensor[c] = all_characters.index(string[c])\n",
    "    return Variable(tensor)\n",
    "\n",
    "print(char_tensor('Daniel'))"
   ]
  },
  {
   "cell_type": "code",
   "execution_count": 10,
   "metadata": {},
   "outputs": [],
   "source": [
    "def random_training_set():\n",
    "    chunk = random_chunk()\n",
    "    inp = char_tensor(chunk[:-1])\n",
    "    target = char_tensor(chunk[1:])\n",
    "    return inp, target"
   ]
  },
  {
   "cell_type": "markdown",
   "metadata": {},
   "source": [
    "### Evaluating"
   ]
  },
  {
   "cell_type": "code",
   "execution_count": 11,
   "metadata": {},
   "outputs": [],
   "source": [
    "def evaluate(prime_str='A', predict_len=100, temperature=0.8):\n",
    "    hidden = decoder.init_hidden()\n",
    "    prime_input = char_tensor(prime_str)\n",
    "    predicted = prime_str\n",
    "\n",
    "    for p in range(len(prime_str) -1):\n",
    "        _, hidden = decoder(prime_input[p], hidden)\n",
    "    inp = prime_input[-1]\n",
    "\n",
    "    for p in range(predict_len):\n",
    "        output, hidden = decoder(inp, hidden)\n",
    "\n",
    "        output_dist = output.data.view(-1).div(temperature).exp()\n",
    "        top_i = torch.multinomial(output_dist, 1)[0]\n",
    "\n",
    "        predicted_char = all_characters[top_i]\n",
    "        predicted += predicted_char\n",
    "        inp = char_tensor(predicted_char)\n",
    "    \n",
    "    return predicted"
   ]
  },
  {
   "cell_type": "markdown",
   "metadata": {},
   "source": [
    "### Training"
   ]
  },
  {
   "cell_type": "code",
   "execution_count": 12,
   "metadata": {},
   "outputs": [],
   "source": [
    "def train(inp, target):\n",
    "    hidden = decoder.init_hidden()\n",
    "    decoder.zero_grad()\n",
    "    loss = 0\n",
    "\n",
    "    for c in range(chunk_len):\n",
    "        output, hidden = decoder(inp[c], hidden)\n",
    "\n",
    "        loss += criterion(output, target[c].unsqueeze(dim=0))\n",
    "\n",
    "    loss.backward()\n",
    "    decoder_optimizer.step()\n",
    "\n",
    "    return loss.item() / chunk_len\n",
    "\n",
    "\n",
    "def time_since(since):\n",
    "    s = time.time() - since\n",
    "    m = math.floor(s / 100)\n",
    "    s -= m * 60\n",
    "    return '%dm %ds' % (m, s)"
   ]
  },
  {
   "cell_type": "code",
   "execution_count": 13,
   "metadata": {},
   "outputs": [
    {
     "name": "stdout",
     "output_type": "stream",
     "text": [
      "[0m 35s (100 5%) 2.2326]\n",
      "Whand wheat and fe ave ke wher,\n",
      "Whire sams the me singo what meren sere\n",
      "Borur nely tho a ther, fe an g \n",
      "\n",
      "[0m 70s (200 10%) 2.1488]\n",
      "Whighy as lar\n",
      " oughat of is be than put hich the bros, cary his preards I were you aw trearrigle au ha \n",
      "\n",
      "[1m 46s (300 15%) 1.8322]\n",
      "Whar, mare and wourt,\n",
      "And mir me I fly cronter in that hath, thiigh, youm old;\n",
      "Or as is fore to srall  \n",
      "\n",
      "[1m 81s (400 20%) 2.2100]\n",
      "Where.\n",
      "And the's has withit here mevele sor\n",
      "For unsor it it them ming eave and the the muk thou hessen \n",
      "\n",
      "[1m 117s (500 25%) 1.6808]\n",
      "Whe the whay to that frood heal'd cood is with you spery shom\n",
      "Thou sur,\n",
      "O fit, whink and rove.\n",
      "\n",
      "CORIO: \n",
      "\n",
      "[2m 93s (600 30%) 2.0570]\n",
      "What I and wole mane.\n",
      "\n",
      "LUSTE:\n",
      "Beer ponow, is thobre how not wilr her stall.\n",
      "\n",
      "JLIO:\n",
      "Noch the to be but  \n",
      "\n",
      "[2m 128s (700 35%) 1.8238]\n",
      "What beer wor\n",
      "It to whet that thy the lese dost;\n",
      "For not shean hannder vire's the dill auld too.\n",
      "\n",
      "BION \n",
      "\n",
      "[2m 163s (800 40%) 1.6254]\n",
      "Whim. Cor your will reved and to says\n",
      "And to sein so, 'streak,\n",
      "Whien I hath JAdily, five and Have you  \n",
      "\n",
      "[3m 142s (900 45%) 2.0285]\n",
      "Who, and tuSing requice sladed not ilforys,\n",
      "I had your my becont a whimse renglves troughabther deed t \n",
      "\n",
      "[3m 177s (1000 50%) 1.9050]\n",
      "Which, upon live for not do grace coldices on, and, a kinghontles heart,\n",
      "Your lever it be gary a him;  \n",
      "\n",
      "[3m 212s (1100 55%) 1.9536]\n",
      "Where heand theme,\n",
      "Say potherd's rere vears, all usome the knatter'd randend,\n",
      "And in heand blood my pa \n",
      "\n",
      "[4m 187s (1200 60%) 1.6306]\n",
      "What.\n",
      "\n",
      "SICENTONIO:\n",
      "So have art the seef hour I will latess.\n",
      "\n",
      "TARCARIAN with Cound:\n",
      "We to came in bruth \n",
      "\n",
      "[4m 222s (1300 65%) 1.9507]\n",
      "Who dest parcher Mure sups dimbrain:\n",
      "as he more mare manion and thou speing the arpio\n",
      "Thay he what the \n",
      "\n",
      "[4m 256s (1400 70%) 1.7875]\n",
      "Whe, stay,\n",
      "To Bith hoppake I welld to thou geth a let, leves with you he but be amppperving curkarn ho \n",
      "\n",
      "[5m 231s (1500 75%) 1.6408]\n",
      "Who tere's thou are to her efer you;\n",
      "And of to my I cet in live,\n",
      "And may the itser your pates the lide \n",
      "\n",
      "[5m 266s (1600 80%) 1.8367]\n",
      "Whout your plifess lear wither thou smore with me aillowin may well a withers,\n",
      "And my thour trating me \n",
      "\n",
      "[6m 242s (1700 85%) 1.7038]\n",
      "Wh'the doele with honour but.\n",
      "\n",
      "BUStorscadaz.\n",
      "\n",
      "KING EDWARTZENMARA:\n",
      "I waive poor hor wated whe the can w \n",
      "\n",
      "[6m 278s (1800 90%) 1.7015]\n",
      "Whith her shall benight shall of with the before,\n",
      "And the pray with it sold the Laved with raved;\n",
      "Fell \n",
      "\n",
      "[6m 313s (1900 95%) 1.5695]\n",
      "Whkes, asme ore in will of to be modis ear,\n",
      "But wip you, and yout for thee sut.\n",
      "\n",
      "MBION:\n",
      "The quiten and \n",
      "\n",
      "[7m 289s (2000 100%) 1.6875]\n",
      "WhA:\n",
      "Now OF me.\n",
      "\n",
      "GCUMNIO:\n",
      "Ah, giets; and Sood more,\n",
      "I will the king, out, may ha'\n",
      "The goot with much y \n",
      "\n"
     ]
    }
   ],
   "source": [
    "n_epochs = 2000\n",
    "print_every = 100\n",
    "plot_every = 10\n",
    "hidden_size = 100\n",
    "n_layers = 1\n",
    "lr = 0.005\n",
    "\n",
    "\n",
    "decoder = RNN(n_characters, hidden_size, n_characters, n_layers)\n",
    "decoder_optimizer = torch.optim.Adam(decoder.parameters(), lr=lr)\n",
    "criterion = nn.CrossEntropyLoss()\n",
    "\n",
    "\n",
    "start = time.time()\n",
    "all_losses = []\n",
    "loss_avg = 0\n",
    "\n",
    "for epoch in range(1, n_epochs + 1):\n",
    "    loss = train(*random_training_set())\n",
    "    loss_avg += loss\n",
    "\n",
    "    if epoch % print_every == 0:\n",
    "        print('[%s (%d %d%%) %.4f]' % (time_since(start), epoch, epoch / n_epochs * 100, loss))\n",
    "        print(evaluate('Wh', 100), '\\n')\n",
    "\n",
    "    if epoch % plot_every == 0:\n",
    "        all_losses.append(loss_avg / plot_every)\n",
    "        loss_avg = 0"
   ]
  },
  {
   "cell_type": "code",
   "execution_count": 18,
   "metadata": {},
   "outputs": [
    {
     "data": {
      "text/plain": [
       "[<matplotlib.lines.Line2D at 0x202a813bcd0>]"
      ]
     },
     "execution_count": 18,
     "metadata": {},
     "output_type": "execute_result"
    },
    {
     "data": {
      "image/png": "[encoded data removed]",
      "text/plain": [
       "<Figure size 640x480 with 1 Axes>"
      ]
     },
     "metadata": {},
     "output_type": "display_data"
    }
   ],
   "source": [
    "plt.plot(all_losses[:])"
   ]
  },
  {
   "cell_type": "code",
   "execution_count": 10,
   "metadata": {},
   "outputs": [
    {
     "name": "stdout",
     "output_type": "stream",
     "text": [
      "Thand say fay condey the pretsune son and the moness carratience mine then their speechiend sear daughtens hand; then's from made\n",
      "Your comes a and to keences the curse on there speak.\n",
      "\n",
      "ANGLOUCESTES:\n",
      "Whi\n"
     ]
    }
   ],
   "source": [
    "print(evaluate('Th', 200, temperature=0.8))"
   ]
  },
  {
   "cell_type": "code",
   "execution_count": null,
   "metadata": {},
   "outputs": [],
   "source": []
  }
 ],
 "metadata": {
  "kernelspec": {
   "display_name": ".venv",
   "language": "python",
   "name": "python3"
  },
  "language_info": {
   "codemirror_mode": {
    "name": "ipython",
    "version": 3
   },
   "file_extension": ".py",
   "mimetype": "text/x-python",
   "name": "python",
   "nbconvert_exporter": "python",
   "pygments_lexer": "ipython3",
   "version": "3.11.0"
  }
 },
 "nbformat": 4,
 "nbformat_minor": 2
}
